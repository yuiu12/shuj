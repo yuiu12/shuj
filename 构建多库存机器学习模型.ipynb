{
 "cells": [
  {
   "cell_type": "code",
   "execution_count": null,
   "metadata": {},
   "outputs": [],
   "source": [
    "import yfinance as yf\n",
    "\n",
    "start_date = '2010–01–01'\n",
    "end_train = '2018–12–31'\n",
    "end_date = '2023–12–31'\n",
    "tickers = ['AAPL', 'MSFT', 'AMZN', 'GOOGL']\n",
    "\n",
    "def get_data(ticker):\n",
    " df = yf.download(ticker, start=start_date, end=end_date)\n",
    " # … (preprocessing steps)\n",
    " return df\n",
    "\n",
    "dfs = {ticker: get_data(ticker) for ticker in tickers}"
   ]
  },
  {
   "cell_type": "code",
   "execution_count": null,
   "metadata": {},
   "outputs": [],
   "source": [
    "pip install D:\\xuexi\\TA_Lib-0.4.29-cp39-cp39-win_amd64.whl"
   ]
  },
  {
   "cell_type": "code",
   "execution_count": 4,
   "metadata": {},
   "outputs": [],
   "source": [
    "import talib as ta \n",
    "def engineer_features(df):\n",
    "    df[\"zscore\"] = (df[\"Adj Close\"] - df[\"Adj Close\"].rolling(15).mean()) / df['Adj Close'].rolling(15).std() \n",
    "    df[\"aroon\"] = ta.AROONOSC(df['Adj High'],df[\"Adj Low\"],timeperiod=14) \n",
    "    df[\"price_trend\"] = df[\"Returns\"].shift().rolling(4).sum() \n",
    "\n",
    "    df['rsi'] = ta.RSI(df['Adj Close'],timeperiod=14) \n",
    "    df['macd'],df['macd_signal'],_ = ta.MACD(df['Adj Close']) \n",
    "    df['bb_upper'],df['bb_middle'],df['bb_lower'] = ta.BBANDS(df['Adj Close']) \n",
    "    df['atr'] = ta.ATR(df['Adj High'], df['Adj Low'], df['Adj Close'], timeperiod=14)\n",
    "    df['cci'] = ta.CCI(df['Adj High'], df['Adj Low'], df['Adj Close'], timeperiod=14)\n",
    " \n",
    "    # categorize features\n",
    "    for feature in ['zscore','aroon','price_trend','rsi','macd','cci']:\n",
    "        df[feature] = pd.qcut(df[feature].rank(method='first'),10,labels=False) \n",
    "    return df.dropna()"
   ]
  },
  {
   "cell_type": "code",
   "execution_count": null,
   "metadata": {},
   "outputs": [],
   "source": [
    "pip install scikit-learn"
   ]
  },
  {
   "cell_type": "code",
   "execution_count": null,
   "metadata": {},
   "outputs": [],
   "source": [
    "from sklearn.feature_selection import SelectKBest, f_classif \n",
    "features = [\"aroon\", \"zscore\", \"price_trend\", \"rsi\", \"macd\", \"cci\", \"atr\"]\n",
    "X = combined_df[features] \n",
    "y = combined_df[\"Target_cat\"] \n",
    "selector = SelectKBest(f_classif,k=5) \n",
    "X_train_selected = selector.fit_transform(X_train,y_train) \n",
    "X_test_selected = selector.transform(X_test)"
   ]
  },
  {
   "cell_type": "code",
   "execution_count": null,
   "metadata": {},
   "outputs": [],
   "source": [
    "pip install xgboost"
   ]
  },
  {
   "cell_type": "code",
   "execution_count": null,
   "metadata": {},
   "outputs": [],
   "source": [
    "from sklearn.pipeline import Pipeline \n",
    "from sklearn.model_selection import GridSearchCV \n",
    "from xgboost import XGBClassifier \n",
    "from sklearn.preprocessing import StandardScaler\n",
    "\n",
    "pipeline = Pipeline([\n",
    "    ('scaler',StandardScaler()),\n",
    "    ('classifier',XGBClassifier(use_label_encoder=False,eval_metric='logloss')) \n",
    "\n",
    "])\n",
    "param_grid = {\n",
    "    'classifier__n_estimators':[100,200,300],\n",
    "    'classifier__learning_rate':[0.01,0.1,0.3],\n",
    "    'classifier__max_depth':[3,5,7]\n",
    "}\n",
    "grid_search = GridSearchCV(pipeline,param_grid,cv=5,scoring='accuracy',n_jobs=-1) \n",
    "grid_search.fit(X_train_selected,y_train) \n",
    "best_model = grid_search.best_estimator_"
   ]
  },
  {
   "cell_type": "code",
   "execution_count": null,
   "metadata": {},
   "outputs": [],
   "source": [
    "y_pred = best_model.predict(X_test_selected) \n",
    "print(classification_report(y_test,y_pred)) "
   ]
  },
  {
   "cell_type": "code",
   "execution_count": null,
   "metadata": {},
   "outputs": [],
   "source": [
    "combined_df['Signal'] = np.where(best_model.predict(selector.transform(X))==1,1,-1) \n",
    "combined_df['Model_Returns'] = combined_df['Signal'] * combined_df['Target']\n",
    "\n",
    "for ticker in tickers:\n",
    " combined_df.loc[ticker, 'Cumulative_Returns'] = (1 + combined_df.loc[ticker, 'Model_Returns']).cumprod()"
   ]
  },
  {
   "cell_type": "code",
   "execution_count": null,
   "metadata": {},
   "outputs": [],
   "source": [
    "risk_free_rate = 0.02 \n",
    "annual_returns = combined_df.groupby('level_0')['Model_Returns'].mean() * 252 \n",
    "annual_volatility = combined_df.groupby('level_0')['Model_Returns'].std() * np.sqrt(252)\n",
    "\n",
    "sharpe_ratio = (annual_returns - risk_free_rate) / annual_volatility\n",
    "print(\"Sharpe Ratios:\")\n",
    "print(sharpe_ratio)"
   ]
  },
  {
   "cell_type": "code",
   "execution_count": null,
   "metadata": {},
   "outputs": [],
   "source": [
    "import plotly.express as px\n",
    "\n",
    "fig = px.line(combined_df.reset_index(), x='Date', y='Cumulative_Returns', color='level_0',\n",
    " labels={'y': 'Cumulative Returns', 'level_0': 'Stock'},\n",
    " title='Multi-Stock Trading Strategy Performance',\n",
    " line_shape='linear')\n",
    "fig.show()"
   ]
  }
 ],
 "metadata": {
  "kernelspec": {
   "display_name": "pytorch",
   "language": "python",
   "name": "python3"
  },
  "language_info": {
   "codemirror_mode": {
    "name": "ipython",
    "version": 3
   },
   "file_extension": ".py",
   "mimetype": "text/x-python",
   "name": "python",
   "nbconvert_exporter": "python",
   "pygments_lexer": "ipython3",
   "version": "3.9.19"
  }
 },
 "nbformat": 4,
 "nbformat_minor": 2
}
